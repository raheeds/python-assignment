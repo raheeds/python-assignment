{
 "cells": [
  {
   "cell_type": "code",
   "execution_count": 46,
   "id": "6d7fda4b",
   "metadata": {},
   "outputs": [
    {
     "name": "stdout",
     "output_type": "stream",
     "text": [
      "hello,Im Rahee D.S.\n",
      "Graduate in civil engineering.\n",
      "Doing masters in project management and construction.\n",
      "I like to read and observe the things which help to improve me.\n"
     ]
    }
   ],
   "source": [
    "#Q.1] write a program to print yourself introduction.\n",
    "introduction=\"\"\"hello,Im Rahee D.S.\n",
    "Graduate in civil engineering.\n",
    "Doing masters in project management and construction.\n",
    "I like to read and observe the things which help to improve me.\"\"\"\n",
    "print(introduction)"
   ]
  },
  {
   "cell_type": "code",
   "execution_count": null,
   "id": "799ac8d2",
   "metadata": {},
   "outputs": [],
   "source": [
    "#Q.2]write a program to perform the following operations."
   ]
  },
  {
   "cell_type": "markdown",
   "id": "5c69916f",
   "metadata": {},
   "source": [
    "### Addition"
   ]
  },
  {
   "cell_type": "code",
   "execution_count": 10,
   "id": "64786cb4",
   "metadata": {},
   "outputs": [
    {
     "name": "stdout",
     "output_type": "stream",
     "text": [
      "enter the number1 59\n",
      "enter the number2 111\n",
      "addition of number is  170\n"
     ]
    }
   ],
   "source": [
    "a=int(input('enter the number1 '))\n",
    "b=int(input('enter the number2 '))\n",
    "c=a+b\n",
    "print('addition of number is ',c)\n"
   ]
  },
  {
   "cell_type": "markdown",
   "id": "28ab518e",
   "metadata": {},
   "source": [
    "### subtraction"
   ]
  },
  {
   "cell_type": "code",
   "execution_count": 8,
   "id": "7461e8c8",
   "metadata": {},
   "outputs": [
    {
     "name": "stdout",
     "output_type": "stream",
     "text": [
      "enter the number1 793\n",
      "enter the number2 25\n",
      "subtraction of number is  768\n"
     ]
    }
   ],
   "source": [
    "a=int(input('enter the number1 '))\n",
    "b=int(input('enter the number2 '))\n",
    "c=a-b\n",
    "print('subtraction of number is ',c)\n"
   ]
  },
  {
   "cell_type": "markdown",
   "id": "8db5a931",
   "metadata": {},
   "source": [
    "### Multiplication"
   ]
  },
  {
   "cell_type": "code",
   "execution_count": 5,
   "id": "cadb779c",
   "metadata": {},
   "outputs": [
    {
     "name": "stdout",
     "output_type": "stream",
     "text": [
      "enter the number1 45\n",
      "enter the number2 9\n",
      "multiplication of number is  405\n"
     ]
    }
   ],
   "source": [
    "a=int(input('enter the number1 '))\n",
    "b=int(input('enter the number2 '))\n",
    "c=a*b\n",
    "print('multiplication of number is ',c)\n"
   ]
  },
  {
   "cell_type": "markdown",
   "id": "b373eb84",
   "metadata": {},
   "source": [
    "### Division"
   ]
  },
  {
   "cell_type": "code",
   "execution_count": 3,
   "id": "ec94809a",
   "metadata": {},
   "outputs": [
    {
     "name": "stdout",
     "output_type": "stream",
     "text": [
      "enter the number1 68\n",
      "enter the number2 12\n",
      "division of number is  5.666666666666667\n"
     ]
    }
   ],
   "source": [
    "a=int(input('enter the number1 '))\n",
    "b=int(input('enter the number2 '))\n",
    "c=a/b\n",
    "print('division of number is ',c)\n"
   ]
  },
  {
   "cell_type": "markdown",
   "id": "391903fe",
   "metadata": {},
   "source": [
    "### modulus"
   ]
  },
  {
   "cell_type": "code",
   "execution_count": 1,
   "id": "8fc7bf20",
   "metadata": {},
   "outputs": [
    {
     "name": "stdout",
     "output_type": "stream",
     "text": [
      "enter the number1 144\n",
      "enter the number2 18\n",
      "reminder of division is  0\n"
     ]
    }
   ],
   "source": [
    "a=int(input('enter the number1 '))\n",
    "b=int(input('enter the number2 '))\n",
    "c=a%b\n",
    "print('reminder of division is ',c)"
   ]
  },
  {
   "cell_type": "markdown",
   "id": "51b6955d",
   "metadata": {},
   "source": [
    "### Exponent"
   ]
  },
  {
   "cell_type": "code",
   "execution_count": 44,
   "id": "e40216e1",
   "metadata": {},
   "outputs": [
    {
     "name": "stdout",
     "output_type": "stream",
     "text": [
      "enter the number1 12\n",
      "enter the number2 4\n",
      "power is  20736\n"
     ]
    }
   ],
   "source": [
    "a=int(input('enter the number1 '))\n",
    "b=int(input('enter the number2 '))\n",
    "c=pow(a,b)\n",
    "print('power is ',c)"
   ]
  },
  {
   "cell_type": "code",
   "execution_count": 1,
   "id": "47e21123",
   "metadata": {},
   "outputs": [
    {
     "name": "stdout",
     "output_type": "stream",
     "text": [
      "enter the number 34\n",
      "enter the number 56\n",
      "swap of number 56 34\n"
     ]
    }
   ],
   "source": [
    "#Q.3] write the program to swap two numbers.\n",
    "a=int(input('enter the number '))\n",
    "b=int(input('enter the number '))\n",
    "a,b=b,a\n",
    "print('swap of number',a,b)"
   ]
  },
  {
   "cell_type": "code",
   "execution_count": 2,
   "id": "ac6307ed",
   "metadata": {},
   "outputs": [
    {
     "name": "stdout",
     "output_type": "stream",
     "text": [
      "enter the number1 76\n",
      "enter the number2 89\n",
      "swap of numbers is  89 76\n"
     ]
    }
   ],
   "source": [
    "#Q.4] write the program to swap two numbers without using third variable.\n",
    "a=int(input('enter the number1 '))\n",
    "b=int(input('enter the number2 '))\n",
    "a=a+b\n",
    "b=a-b\n",
    "a=a-b\n",
    "print('swap of numbers is ',a,b)"
   ]
  },
  {
   "cell_type": "code",
   "execution_count": 3,
   "id": "56cb68b3",
   "metadata": {},
   "outputs": [
    {
     "name": "stdout",
     "output_type": "stream",
     "text": [
      "enter the principal amount 50000\n",
      "enter the interest rate 5\n",
      "enter the tenure 10\n",
      "simple interest is  25000.0\n"
     ]
    }
   ],
   "source": [
    "#Q.5] write the program to compute simple interest.\n",
    "p=int(input('enter the principal amount '))\n",
    "r=int(input('enter the interest rate '))\n",
    "t=int(input('enter the tenure '))\n",
    "si=(p*r*t)/100\n",
    "print('simple interest is ',si)"
   ]
  },
  {
   "cell_type": "code",
   "execution_count": 4,
   "id": "c81c909e",
   "metadata": {},
   "outputs": [
    {
     "name": "stdout",
     "output_type": "stream",
     "text": [
      "enter the number1 45\n",
      "enter the number2 23\n",
      "enter the number3 77\n",
      "enter the number4 89\n",
      "enter the number5 73\n",
      "average of numbers is  61.4\n"
     ]
    }
   ],
   "source": [
    "#Q.6] write the program to find average of five numbers by user input.\n",
    "a=int(input('enter the number1 '))\n",
    "b=int(input('enter the number2 '))\n",
    "c=int(input('enter the number3 '))\n",
    "d=int(input('enter the number4 '))\n",
    "e=int(input('enter the number5 '))\n",
    "avg=(a+b+c+d+e)/5\n",
    "print('average of numbers is ',avg)"
   ]
  },
  {
   "cell_type": "code",
   "execution_count": 5,
   "id": "27ad4afa",
   "metadata": {},
   "outputs": [
    {
     "name": "stdout",
     "output_type": "stream",
     "text": [
      "enter the number1 3\n",
      "enter the number2 6\n",
      "enter the number3 3\n",
      "discriminant of a quadratic equation 0\n",
      "quadratic equation has one possible solution\n"
     ]
    }
   ],
   "source": [
    "#Q.7] write the program to calculate the discriminant of a quadratic equation.\n",
    "a=int(input('enter the number1 '))\n",
    "b=int(input('enter the number2 '))\n",
    "c=int(input('enter the number3 '))\n",
    "discriminant=(b*b)-(4*a*c)\n",
    "print('discriminant of a quadratic equation',discriminant)\n",
    "if discriminant>0:\n",
    "    print('quadratic equation has two possible solutions')\n",
    "elif discriminant==0:\n",
    "    print('quadratic equation has one possible solution')\n",
    "elif discriminant<0:\n",
    "        print('quadratic equation has no possible solutions')\n"
   ]
  },
  {
   "cell_type": "code",
   "execution_count": null,
   "id": "e3752fe6",
   "metadata": {},
   "outputs": [],
   "source": [
    "Q.8] write the program to calculate the areas of following shapes:"
   ]
  },
  {
   "cell_type": "markdown",
   "id": "96c2f9de",
   "metadata": {},
   "source": [
    "#### rectangle"
   ]
  },
  {
   "cell_type": "code",
   "execution_count": 6,
   "id": "6376af1d",
   "metadata": {},
   "outputs": [
    {
     "name": "stdout",
     "output_type": "stream",
     "text": [
      "enter the leangth 12\n",
      "enter the breadth 9\n",
      "area of rectangle 108\n"
     ]
    }
   ],
   "source": [
    "a=int(input('enter the leangth '))\n",
    "b=int(input('enter the breadth '))\n",
    "area=a*b\n",
    "print('area of rectangle',area)"
   ]
  },
  {
   "cell_type": "markdown",
   "id": "f7aec161",
   "metadata": {},
   "source": [
    "#### square"
   ]
  },
  {
   "cell_type": "code",
   "execution_count": 7,
   "id": "2270616a",
   "metadata": {},
   "outputs": [
    {
     "name": "stdout",
     "output_type": "stream",
     "text": [
      "enter the side 16\n",
      "area of square 256\n"
     ]
    }
   ],
   "source": [
    "a=int(input('enter the side '))\n",
    "area=a*a\n",
    "print('area of square',area)"
   ]
  },
  {
   "cell_type": "markdown",
   "id": "32751ea2",
   "metadata": {},
   "source": [
    "#### triangle"
   ]
  },
  {
   "cell_type": "code",
   "execution_count": 9,
   "id": "877eeb91",
   "metadata": {},
   "outputs": [
    {
     "name": "stdout",
     "output_type": "stream",
     "text": [
      "enter the base 68\n",
      "enter the height 12\n",
      "area of triangle 408.0\n"
     ]
    }
   ],
   "source": [
    "a=int(input('enter the base '))\n",
    "b=int(input('enter the height '))\n",
    "area=0.5*a*b\n",
    "print('area of triangle',area)"
   ]
  },
  {
   "cell_type": "markdown",
   "id": "89addafd",
   "metadata": {},
   "source": [
    "#### circle"
   ]
  },
  {
   "cell_type": "code",
   "execution_count": 8,
   "id": "d2769973",
   "metadata": {},
   "outputs": [
    {
     "name": "stdout",
     "output_type": "stream",
     "text": [
      "enter the radius 20\n",
      "area of circle  1256.0\n"
     ]
    }
   ],
   "source": [
    "r=int(input('enter the radius '))\n",
    "area=3.14*r*r\n",
    "print('area of circle ',area)"
   ]
  },
  {
   "cell_type": "code",
   "execution_count": 11,
   "id": "7356576b",
   "metadata": {},
   "outputs": [
    {
     "name": "stdout",
     "output_type": "stream",
     "text": [
      "enter the basic salary of employee 55000\n",
      "da is 2750.0\n",
      "hra is 3850.0000000000005\n",
      "pf is 1650.0\n",
      "net salary of employee is 59950.0\n"
     ]
    }
   ],
   "source": [
    "#Q.9]write the program to calculate net salary of an employee whose basic salary is entered by user, DA is5% of basic salary \n",
    "#HRA is 7% of basic salary and PF is 3% of basic salary.\n",
    "a=int(input('enter the basic salary of employee '))\n",
    "da=0.05*a\n",
    "hra=0.07*a\n",
    "pf=0.03*a\n",
    "gross_salary=a+da+hra\n",
    "net_salary= gross_salary-pf\n",
    "print('da is',da)\n",
    "print('hra is',hra)\n",
    "print('pf is',pf)\n",
    "print('net salary of employee is',net_salary)"
   ]
  },
  {
   "cell_type": "code",
   "execution_count": 12,
   "id": "979521c2",
   "metadata": {},
   "outputs": [
    {
     "name": "stdout",
     "output_type": "stream",
     "text": [
      "enter the number 3\n",
      "enter the number 2\n",
      "power of number is  9\n"
     ]
    }
   ],
   "source": [
    "#Q.10]write the program to calculate power of number.\n",
    "a=int(input('enter the number '))\n",
    "b=int(input('enter the number '))\n",
    "c=pow(a,b)\n",
    "print('power of number is ',c)"
   ]
  },
  {
   "cell_type": "code",
   "execution_count": 13,
   "id": "0abd229c",
   "metadata": {},
   "outputs": [
    {
     "name": "stdout",
     "output_type": "stream",
     "text": [
      "my python version is  3.9.13\n"
     ]
    }
   ],
   "source": [
    "#Q.11]write the program to get the python version you are using.\n",
    "from platform import python_version\n",
    "print('my python version is ',python_version())"
   ]
  },
  {
   "cell_type": "code",
   "execution_count": null,
   "id": "e5e10323",
   "metadata": {},
   "outputs": [],
   "source": []
  }
 ],
 "metadata": {
  "kernelspec": {
   "display_name": "Python 3 (ipykernel)",
   "language": "python",
   "name": "python3"
  },
  "language_info": {
   "codemirror_mode": {
    "name": "ipython",
    "version": 3
   },
   "file_extension": ".py",
   "mimetype": "text/x-python",
   "name": "python",
   "nbconvert_exporter": "python",
   "pygments_lexer": "ipython3",
   "version": "3.9.13"
  }
 },
 "nbformat": 4,
 "nbformat_minor": 5
}
