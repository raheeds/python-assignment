{
 "cells": [
  {
   "cell_type": "code",
   "execution_count": 3,
   "id": "c23792a7",
   "metadata": {},
   "outputs": [
    {
     "name": "stdout",
     "output_type": "stream",
     "text": [
      "89\n"
     ]
    }
   ],
   "source": [
    "#Q.write function to find maximum of 3 number\n",
    "def maximum(*n):\n",
    "    if n:\n",
    "        mn=n[0]                 \n",
    "        for i in n[1:]:\n",
    "            if i>mn:\n",
    "                mn=i\n",
    "        print(mn) \n",
    "maximum(14,56,89)        \n",
    "maximum()"
   ]
  },
  {
   "cell_type": "code",
   "execution_count": 18,
   "id": "6e2994f3",
   "metadata": {},
   "outputs": [
    {
     "name": "stdout",
     "output_type": "stream",
     "text": [
      "15\n"
     ]
    }
   ],
   "source": [
    "#Q.write function to sum of all number in list\n",
    "def add(a):\n",
    "    sum_1=0\n",
    "    for i in a:\n",
    "        sum_1=sum_1+i\n",
    "    print(sum_1)\n",
    "a=[1,2,3,4,5]        \n",
    "res=add(a)"
   ]
  },
  {
   "cell_type": "code",
   "execution_count": 5,
   "id": "b15236be",
   "metadata": {},
   "outputs": [
    {
     "name": "stdout",
     "output_type": "stream",
     "text": [
      "product is  6\n"
     ]
    }
   ],
   "source": [
    "#Q.write function to multiplication of all numbers in list\n",
    "def mul(a):                       \n",
    "    pro=1\n",
    "    for i in a:\n",
    "        pro=pro*i\n",
    "    print('product is ',pro)\n",
    "a=[1,2,3]   \n",
    "mul(a)"
   ]
  },
  {
   "cell_type": "code",
   "execution_count": 41,
   "id": "00f0b4bf",
   "metadata": {},
   "outputs": [],
   "source": [
    "#Q.write function to reverse the string\n",
    "def reverse_string(s):\n",
    "    rev_str =' '.join(reversed(s))\n",
    "    return rev_str"
   ]
  },
  {
   "cell_type": "code",
   "execution_count": 45,
   "id": "2d5782aa",
   "metadata": {},
   "outputs": [
    {
     "name": "stdout",
     "output_type": "stream",
     "text": [
      "d l r o w   o l l e h\n"
     ]
    }
   ],
   "source": [
    "s=\"hello world\"\n",
    "rev_str=reverse_string(s)\n",
    "print(rev_str)"
   ]
  },
  {
   "cell_type": "code",
   "execution_count": 25,
   "id": "1d663b0b",
   "metadata": {},
   "outputs": [
    {
     "name": "stdout",
     "output_type": "stream",
     "text": [
      "enter the number 4\n",
      "24\n"
     ]
    }
   ],
   "source": [
    "#Q.write function to calculate factorial of number\n",
    "def fact(n):\n",
    "    f=1\n",
    "    for i in range(1,n+1):\n",
    "        f=f*i\n",
    "    return f\n",
    "a=int(input('enter the number '))\n",
    "print(fact(a))"
   ]
  },
  {
   "cell_type": "code",
   "execution_count": 4,
   "id": "05c87536",
   "metadata": {},
   "outputs": [
    {
     "name": "stdout",
     "output_type": "stream",
     "text": [
      "enter string RAheeDas\n",
      "uppercase letters are 3\n",
      "lowercase letters are 5\n"
     ]
    }
   ],
   "source": [
    "#Q.write function that accept a string and calculate the number of uppercase letters and lowercase letters\n",
    "def str_1(s):\n",
    "    u=0\n",
    "    l=0\n",
    "    for i in s:\n",
    "        if (i>='A' and i<='Z'):\n",
    "            u=u+1\n",
    "        else:\n",
    "            l=l+1\n",
    "    print(\"uppercase letters are\",u)\n",
    "    print(\"lowercase letters are\",l)\n",
    "\n",
    "a=input('enter string ')     \n",
    "str_1(a)"
   ]
  },
  {
   "cell_type": "code",
   "execution_count": 4,
   "id": "100edbe7",
   "metadata": {},
   "outputs": [
    {
     "name": "stdout",
     "output_type": "stream",
     "text": [
      "[1, 2, 3, 4, 5, 6]\n"
     ]
    }
   ],
   "source": [
    "#Q.write function that takes a list and return a new list with unique elements of first list\n",
    "def list_1(a):\n",
    "    uniq=[]\n",
    "    for i in a:\n",
    "        if i not in uniq:\n",
    "            uniq.append(i)\n",
    "    return uniq   \n",
    "    \n",
    "print(list_1([1,2,3,3,4,5,6,1,2]))  \n",
    "    "
   ]
  },
  {
   "cell_type": "code",
   "execution_count": 2,
   "id": "79c8ff27",
   "metadata": {},
   "outputs": [
    {
     "name": "stdout",
     "output_type": "stream",
     "text": [
      "enter the number3\n",
      "3 is Prime Number\n"
     ]
    }
   ],
   "source": [
    "#Q.write function that take number as parameter and check number is prime or not.\n",
    "a=int(input('enter the number'))\n",
    "def pri_no(a):\n",
    "    if a<=1:\n",
    "        return False\n",
    "    for i in range(2,a):\n",
    "        if(a%i)==0:\n",
    "            return False\n",
    "        return True\n",
    "if (pri_no(a)):\n",
    "    print(a,'is Prime Number')\n",
    "else:\n",
    "     print(a,'is not Prime Number')"
   ]
  },
  {
   "cell_type": "code",
   "execution_count": 10,
   "id": "71ca571b",
   "metadata": {},
   "outputs": [
    {
     "name": "stdout",
     "output_type": "stream",
     "text": [
      "enter the number 6\n",
      "The number 6 is perfect number\n"
     ]
    }
   ],
   "source": [
    "#Q.write program to check number is prefect or not.\n",
    "def no_perfect(a):\n",
    "    sum=0\n",
    "    for i in range(1,a):\n",
    "        if a%i==0:\n",
    "            sum=sum+i\n",
    "    if sum==a:\n",
    "        print('The number', a ,'is perfect number')\n",
    "    else:\n",
    "        print('The number', a, 'is not perfect number')\n",
    "        \n",
    "x=int(input('enter the number '))\n",
    "no_perfect(x)"
   ]
  },
  {
   "cell_type": "code",
   "execution_count": 20,
   "id": "13996a2b",
   "metadata": {},
   "outputs": [
    {
     "name": "stdout",
     "output_type": "stream",
     "text": [
      "Enter the string: malayalam\n",
      "malayalam is palindrome\n"
     ]
    }
   ],
   "source": [
    "#Q.write program to check the passed string is palindrome or not.\n",
    "def str_palindrome(str):\n",
    "    if (str[::-1]==str):\n",
    "        print(str,'is palindrome')\n",
    "    else:\n",
    "        print(str,'is not palindrome')\n",
    "    \n",
    "s=input('Enter the string: ')\n",
    "str_palindrome(s)"
   ]
  },
  {
   "cell_type": "code",
   "execution_count": 9,
   "id": "f16ee55a",
   "metadata": {},
   "outputs": [
    {
     "name": "stdout",
     "output_type": "stream",
     "text": [
      "enter the number: 145\n",
      "The number is strong number 145\n"
     ]
    }
   ],
   "source": [
    "#Q.write program to check given number is strong or not.\n",
    "def strong_no(a):\n",
    "    sum=0\n",
    "    temp_a=a\n",
    "    while(a>0):\n",
    "        f=1\n",
    "        i=1\n",
    "        rem=a%10\n",
    "        for i in range(1,rem+1):\n",
    "            f=f*i\n",
    "        sum=sum+f\n",
    "        a=a//10\n",
    "        \n",
    "    \n",
    "    if sum==temp_a:\n",
    "        print('The number is strong number',temp_a)\n",
    "    else:\n",
    "        print('The number is not strong number',temp_a)\n",
    "\n",
    "b=int(input('enter the number: '))\n",
    "strong_no(b)"
   ]
  },
  {
   "cell_type": "code",
   "execution_count": 11,
   "id": "919d0545",
   "metadata": {},
   "outputs": [
    {
     "name": "stdout",
     "output_type": "stream",
     "text": [
      "enter the number123\n",
      "reversed no is  321\n",
      "sum of reversed no is  6\n"
     ]
    }
   ],
   "source": [
    "#Q.write the function to print sum of reversed numbers\n",
    "def rever_no(a):\n",
    "    rev_no=0\n",
    "    digit=0\n",
    "    summ=0\n",
    "    while a!=0:\n",
    "        digit=a%10\n",
    "        summ=summ+digit\n",
    "        rev_no=rev_no*10+digit\n",
    "        a=a//10\n",
    "    \n",
    "    print('reversed no is ',rev_no)\n",
    "    print('sum of reversed no is ',summ)\n",
    "\n",
    "x=int(input('enter the number'))\n",
    "rever_no(x)"
   ]
  }
 ],
 "metadata": {
  "kernelspec": {
   "display_name": "Python 3 (ipykernel)",
   "language": "python",
   "name": "python3"
  },
  "language_info": {
   "codemirror_mode": {
    "name": "ipython",
    "version": 3
   },
   "file_extension": ".py",
   "mimetype": "text/x-python",
   "name": "python",
   "nbconvert_exporter": "python",
   "pygments_lexer": "ipython3",
   "version": "3.9.13"
  }
 },
 "nbformat": 4,
 "nbformat_minor": 5
}
