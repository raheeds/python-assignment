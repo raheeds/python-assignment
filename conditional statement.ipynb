{
 "cells": [
  {
   "cell_type": "code",
   "execution_count": 26,
   "id": "fabe474c",
   "metadata": {},
   "outputs": [
    {
     "name": "stdout",
     "output_type": "stream",
     "text": [
      "enter the number 65\n",
      "The given number is odd.\n"
     ]
    }
   ],
   "source": [
    "#Q.1]write the program to check whether a given number is even or odd.\n",
    "n=int(input('enter the number '))\n",
    "if n%2!=0:\n",
    "    print('The given number is odd.')\n",
    "else:\n",
    "    print('The given number is even.')\n"
   ]
  },
  {
   "cell_type": "code",
   "execution_count": 5,
   "id": "6d36b382",
   "metadata": {},
   "outputs": [
    {
     "name": "stdout",
     "output_type": "stream",
     "text": [
      "enter an alphabet o\n",
      "An alphabet is vowel consonant.\n"
     ]
    }
   ],
   "source": [
    "#Q.2]write the program to check whether an alphabet is vowel consonant.\n",
    "alpha=str(input('enter an alphabet '))\n",
    "if (alpha=='a'or alpha=='e' or alpha=='i' or alpha=='o' or alpha=='u'):\n",
    "    print('An alphabet is vowel consonant.')\n",
    "else:\n",
    "        print('An alphabet is not vowel consonant.')"
   ]
  },
  {
   "cell_type": "code",
   "execution_count": 7,
   "id": "cbc4778e",
   "metadata": {},
   "outputs": [
    {
     "name": "stdout",
     "output_type": "stream",
     "text": [
      "enter the age 18\n",
      "person is eligible for vote.\n"
     ]
    }
   ],
   "source": [
    "#Q.3]write the program to check whether a person is eligible to vote or not.\n",
    "voter=int(input('enter the age '))\n",
    "if voter>=18:\n",
    "    print('person is eligible for vote.')\n",
    "else:\n",
    "        print('person is not eligible for vote.')\n"
   ]
  },
  {
   "cell_type": "code",
   "execution_count": 8,
   "id": "9bcb4e17",
   "metadata": {},
   "outputs": [
    {
     "name": "stdout",
     "output_type": "stream",
     "text": [
      "enter the number-7\n",
      "The given number is negative\n"
     ]
    }
   ],
   "source": [
    "#Q.4]write the program to check whether a number is positive negative or zero.\n",
    "n=float(input('enter the number'))\n",
    "if n==0:\n",
    "    print('The given number is zero')\n",
    "elif n>0:\n",
    "    print('The given number is positive')\n",
    "else:\n",
    "    print('The given number is negative')"
   ]
  },
  {
   "cell_type": "code",
   "execution_count": 12,
   "id": "6df26794",
   "metadata": {},
   "outputs": [
    {
     "name": "stdout",
     "output_type": "stream",
     "text": [
      "enter the year 1996\n",
      "The given year is leap year\n"
     ]
    }
   ],
   "source": [
    "#Q.5]write the program to check whether given year is leap year or not\n",
    "n=int(input('enter the year '))\n",
    "if n%4==0:\n",
    "    print('The given year is leap year')\n",
    "else:\n",
    "    print('The given year is not leap year')\n"
   ]
  },
  {
   "cell_type": "code",
   "execution_count": 14,
   "id": "28d03ce7",
   "metadata": {},
   "outputs": [
    {
     "name": "stdout",
     "output_type": "stream",
     "text": [
      "enter the side of triangle T1 23\n",
      "enter the side of triangle T2 67\n",
      "enter the side of triangle T3 23\n",
      "The given triangle is isosceles\n"
     ]
    }
   ],
   "source": [
    "#Q.6]write the program to check whether triangle is equilateral, isosceles or scalene.\n",
    "t1=float(input('enter the side of triangle T1 '))\n",
    "t2=float(input('enter the side of triangle T2 '))\n",
    "t3=float(input('enter the side of triangle T3 '))\n",
    "if(t1==t2==t3):\n",
    "    print('The given triangle is equilateral')\n",
    "elif( t1==t2 or t1==t3 or t2==t3):\n",
    "    print('The given triangle is isosceles')\n",
    "else:\n",
    "    print('The given triangle is isosceles')"
   ]
  },
  {
   "cell_type": "code",
   "execution_count": 16,
   "id": "d98d1a72",
   "metadata": {},
   "outputs": [
    {
     "name": "stdout",
     "output_type": "stream",
     "text": [
      "enter the selling price 600\n",
      "enter the cost price 650\n",
      "After selling product has loss.\n"
     ]
    }
   ],
   "source": [
    "#Q.7]write the program to check whether after selling a product its profit or loss.\n",
    "sp=float(input('enter the selling price '))\n",
    "cp=float(input('enter the cost price '))\n",
    "profit=sp-cp\n",
    "if profit>0:\n",
    "    print('After selling product has profit.')\n",
    "else:\n",
    "    print('After selling product has loss.')"
   ]
  },
  {
   "cell_type": "code",
   "execution_count": 1,
   "id": "1c9ea14e",
   "metadata": {},
   "outputs": [
    {
     "name": "stdout",
     "output_type": "stream",
     "text": [
      "enter the number N1 34\n",
      "enter the number N2 77\n",
      "greatest number is 77.0\n"
     ]
    }
   ],
   "source": [
    "#Q.8]write the program to enter two number and print the greatest number.\n",
    "a=float(input('enter the number N1 '))\n",
    "b=float(input('enter the number N2 '))\n",
    "if a>b:\n",
    "    print('greatest number is',a)\n",
    "else:\n",
    "    print('greatest number is',b)\n"
   ]
  },
  {
   "cell_type": "code",
   "execution_count": 3,
   "id": "fac26cd3",
   "metadata": {},
   "outputs": [
    {
     "name": "stdout",
     "output_type": "stream",
     "text": [
      "enter the number N1 56\n",
      "enter the number N2 11\n",
      "smallest number is 11.0\n"
     ]
    }
   ],
   "source": [
    "#Q.9]write the program to enter two number and print the smallest number.\n",
    "a=float(input('enter the number N1 '))\n",
    "b=float(input('enter the number N2 '))\n",
    "if a<b:\n",
    "    print('smallest number is',a)\n",
    "else:\n",
    "    print('smallest number is',b)\n"
   ]
  },
  {
   "cell_type": "code",
   "execution_count": 10,
   "id": "4f97cff9",
   "metadata": {},
   "outputs": [
    {
     "name": "stdout",
     "output_type": "stream",
     "text": [
      "enter the number N1 12\n",
      "enter the number N2 10\n",
      "enter the number N3 11\n",
      "greatest number is 12.0\n"
     ]
    }
   ],
   "source": [
    "#Q.10]write the program to enter three number and print the greatest number.\n",
    "a=float(input('enter the number N1 '))\n",
    "b=float(input('enter the number N2 '))\n",
    "c=float(input('enter the number N3 '))\n",
    "if(a>b and a>c):\n",
    "    print('greatest number is',a)\n",
    "elif(a<b and a>c):\n",
    "    print('greatest number is',b)\n",
    "else:\n",
    "    print('greatest number is',c)"
   ]
  },
  {
   "cell_type": "code",
   "execution_count": 11,
   "id": "515ca9ad",
   "metadata": {},
   "outputs": [
    {
     "name": "stdout",
     "output_type": "stream",
     "text": [
      "enter the number N1 12\n",
      "enter the number N2 10\n",
      "enter the number N3 11\n",
      "smallest number is 10.0\n"
     ]
    }
   ],
   "source": [
    "# Q.11]write the program to enter three number and print the smallest number.\n",
    "a=float(input('enter the number N1 '))\n",
    "b=float(input('enter the number N2 '))\n",
    "c=float(input('enter the number N3 '))\n",
    "if(a<b and a<c):\n",
    "    print('smallest number is',a)\n",
    "elif(a>b and b<c):\n",
    "    print('smallest number is',b)\n",
    "else:\n",
    "    print('smallest number is',c)"
   ]
  },
  {
   "cell_type": "code",
   "execution_count": 5,
   "id": "2ea3be13",
   "metadata": {},
   "outputs": [
    {
     "name": "stdout",
     "output_type": "stream",
     "text": [
      "enter the number N1 1\n",
      "enter the number N2 -5\n",
      "enter the number N3 6\n",
      "1st root is  3.0\n",
      "2nd root is  2.0\n"
     ]
    }
   ],
   "source": [
    "# Q.12]write the program to calculate roots of quadratic equation.\n",
    "a=float(input('enter the number N1 '))\n",
    "b=float(input('enter the number N2 '))\n",
    "c=float(input('enter the number N3 '))\n",
    "x=((b*b)-4*a*c)\n",
    "y=x**0.5\n",
    "if y<0:\n",
    "    print('roots are imaginary')\n",
    "else:\n",
    "    r1=(-b+y)/(2*a)\n",
    "    r2=(-b-y)/(2*a)\n",
    "    print('1st root is ',round(r1,3))\n",
    "    print('2nd root is ',round(r2,3))\n"
   ]
  },
  {
   "cell_type": "code",
   "execution_count": 9,
   "id": "948fbf67",
   "metadata": {},
   "outputs": [
    {
     "name": "stdout",
     "output_type": "stream",
     "text": [
      "enter the number between 1-7 is 3\n",
      "tuesday\n"
     ]
    }
   ],
   "source": [
    "# Q.13]write the program to enter a number between(1-7)and print respective day of week\n",
    "a=int(input('enter the number between 1-7 is '))\n",
    "if a==1:\n",
    "    print('sunday')\n",
    "elif a==2:\n",
    "    print('monday')\n",
    "elif a==3:\n",
    "    print('tuesday')\n",
    "elif a==4:\n",
    "    print('wednesday')        \n",
    "elif a==5:\n",
    "    print('thrusday')\n",
    "elif a==6:\n",
    "    print('friday')        \n",
    "else:\n",
    "    print('saturday')           "
   ]
  },
  {
   "cell_type": "code",
   "execution_count": 4,
   "id": "02a56c7d",
   "metadata": {},
   "outputs": [
    {
     "name": "stdout",
     "output_type": "stream",
     "text": [
      "enter the salary of employee 50000\n",
      "enter the years of service 6\n",
      "net_bonus=  52500.0\n"
     ]
    }
   ],
   "source": [
    "# Q.14]A company decided to give bonus of 5% to employee if his/her year of service is more than 5year. Ask user for their \n",
    "#salary and year of serive and print net bonus amount.\n",
    "salary=float(input('enter the salary of employee '))\n",
    "year=float(input('enter the years of service '))\n",
    "if year>5:\n",
    "    a=0.05*salary\n",
    "    net_bonus=a+salary\n",
    "    print('net_bonus= ',net_bonus)\n",
    "else:\n",
    "    print('no bonus')\n"
   ]
  },
  {
   "cell_type": "code",
   "execution_count": 6,
   "id": "cf1eeac5",
   "metadata": {},
   "outputs": [
    {
     "name": "stdout",
     "output_type": "stream",
     "text": [
      "enter the length L 45\n",
      "enter the breadth B 34\n",
      "given diamensions of rectangle is not square\n"
     ]
    }
   ],
   "source": [
    "# Q.15]write the program to take input of length and breadth of rectangle from user and check if it square or not.\n",
    "l=float(input('enter the length L '))\n",
    "b=float(input('enter the breadth B '))\n",
    "if l==b:\n",
    "    print('given diamensions of rectangle is square')\n",
    "else:\n",
    "    print('given diamensions of rectangle is not square')"
   ]
  },
  {
   "cell_type": "code",
   "execution_count": 13,
   "id": "da05c401",
   "metadata": {},
   "outputs": [
    {
     "name": "stdout",
     "output_type": "stream",
     "text": [
      "enter the age of 1st person A1 65\n",
      "enter the age of 2nd person A2 13\n",
      "enter the age of 3rd person A3 39\n",
      "oldest person is of age is 65\n",
      "youngest person is of age is 13\n"
     ]
    }
   ],
   "source": [
    "#Q.16]Take input of age of 3 people by user and determine oldest and youngest one.\n",
    "a=int(input('enter the age of 1st person A1 '))\n",
    "b=int(input('enter the age of 2nd person A2 '))\n",
    "c=int(input('enter the age of 3rd person A3 '))\n",
    "if(a>b and a>c):\n",
    "    print('oldest person is of age is',a)\n",
    "elif(a<b and b>c):\n",
    "    print('oldest person is of age is',b)\n",
    "else:\n",
    "    print('oldest person is of age is',c)\n",
    "if(a<b and a<c):\n",
    "    print('youngest person is of age is',a)\n",
    "elif(a>b and b<c):\n",
    "    print('youngest person is of age is',b)\n",
    "else:\n",
    "    print('youngest person is of age is',c)    \n"
   ]
  },
  {
   "cell_type": "code",
   "execution_count": 30,
   "id": "aa51b2d4",
   "metadata": {},
   "outputs": [
    {
     "name": "stdout",
     "output_type": "stream",
     "text": [
      "enter the marks 60\n",
      "grade is C\n"
     ]
    }
   ],
   "source": [
    "#Q.17]A school has following rules for grading system\n",
    "#a. below25-F\n",
    "#b.25 to 45-E\n",
    "#c.45 to 50-D\n",
    "#d.50 to 60-C\n",
    "#e.60 to 80-B\n",
    "#f.above 80-A\n",
    "#ask user to enter marks and print cooresponding grade.\n",
    "a=float(input('enter the marks '))\n",
    "if(a<=25):\n",
    "    print('grade is F')\n",
    "elif(a>25 and a<=45):\n",
    "    print('grade is E')\n",
    "elif(a>45 and a<=50):        \n",
    "    print('grade is D')\n",
    "elif(a>50 and a<=60):\n",
    "    print('grade is C')\n",
    "elif(a>60 and a<=80):\n",
    "    print('grade is B')\n",
    "else:\n",
    "    print('grade is A')"
   ]
  }
 ],
 "metadata": {
  "kernelspec": {
   "display_name": "Python 3 (ipykernel)",
   "language": "python",
   "name": "python3"
  },
  "language_info": {
   "codemirror_mode": {
    "name": "ipython",
    "version": 3
   },
   "file_extension": ".py",
   "mimetype": "text/x-python",
   "name": "python",
   "nbconvert_exporter": "python",
   "pygments_lexer": "ipython3",
   "version": "3.9.13"
  }
 },
 "nbformat": 4,
 "nbformat_minor": 5
}
