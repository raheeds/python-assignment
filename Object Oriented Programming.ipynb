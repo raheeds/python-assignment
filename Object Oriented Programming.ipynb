{
 "cells": [
  {
   "cell_type": "code",
   "execution_count": 3,
   "id": "64a352ac",
   "metadata": {},
   "outputs": [
    {
     "name": "stdout",
     "output_type": "stream",
     "text": [
      "Name: Meghna\n",
      "Age: 24\n",
      "Gender: Female\n",
      "24\n",
      "set Age: 45\n",
      "45\n",
      "Name: Meghna\n",
      "Age: 45\n",
      "Gender: Female\n"
     ]
    }
   ],
   "source": [
    "#Q.create called person with attribute such as name,age,gender.define methods to get set these attributes.\n",
    "class Person:\n",
    "    def __init__(self,name,age,gender):\n",
    "        self.name=name\n",
    "        self.age=age\n",
    "        self.gender=gender\n",
    "    def dis(self):\n",
    "        print('Name:',self.name)\n",
    "        print('Age:',self.age)\n",
    "        print('Gender:',self.gender)\n",
    "    def getAge(self):\n",
    "        print(self.age)\n",
    "    def setAge(self,age):\n",
    "        self.age=age\n",
    "        print('set Age:',self.age)\n",
    "\n",
    "obj=Person('Meghna',24,'Female') \n",
    "obj.dis()\n",
    "obj.getAge()\n",
    "obj.setAge(45)\n",
    "obj.getAge()\n",
    "obj.dis()"
   ]
  },
  {
   "cell_type": "code",
   "execution_count": 10,
   "id": "e9f8010e",
   "metadata": {},
   "outputs": [
    {
     "name": "stdout",
     "output_type": "stream",
     "text": [
      "Id: 20221\n",
      "Major: B.sc\n",
      "GPA: 8.7\n",
      "Name: sagarika dandekar\n",
      "Age: 22\n",
      "Gender: Female\n",
      "8.7\n",
      "set new GPA is: 9.1\n",
      "9.1\n",
      "Id: 20221\n",
      "Major: B.sc\n",
      "GPA: 9.1\n",
      "Name: sagarika dandekar\n",
      "Age: 22\n",
      "Gender: Female\n"
     ]
    }
   ],
   "source": [
    "#Q.create class called Student inherites from person.add attributes such as id,major,gpa.define methods to get,set attributes.\n",
    "class Person:\n",
    "    def __init__(self,name,age,gender):\n",
    "        self.name=name\n",
    "        self.age=age\n",
    "        self.gender=gender\n",
    "    def dis(self):\n",
    "        print('Name:',self.name)\n",
    "        print('Age:',self.age)\n",
    "        print('Gender:',self.gender)\n",
    "class Student(Person):\n",
    "    def __init__(self,name,age,gender,id,major,gpa):\n",
    "        Person.__init__(self,name,age,gender)\n",
    "        self.id=id\n",
    "        self.major=major\n",
    "        self.gpa=gpa\n",
    "    def display(self):\n",
    "        print('Id:',self.id)\n",
    "        print('Major:',self.major)\n",
    "        print('GPA:',self.gpa)\n",
    "    def getgpa(self):\n",
    "        print(self.gpa)\n",
    "    def setgpa(self,gpa):\n",
    "        self.gpa=gpa\n",
    "        print('set new GPA is:',self.gpa)\n",
    "a=Student('sagarika dandekar',22,'Female',20221,'B.sc',8.7)    \n",
    "a.display()\n",
    "a.dis()\n",
    "a.getgpa()\n",
    "a.setgpa(9.1)\n",
    "a.getgpa()\n",
    "a.display()\n",
    "a.dis()"
   ]
  },
  {
   "cell_type": "code",
   "execution_count": 13,
   "id": "70d7e7da",
   "metadata": {},
   "outputs": [
    {
     "name": "stdout",
     "output_type": "stream",
     "text": [
      "Length of rectangle is 12\n",
      "Width of rectangle is 5\n",
      "Area of rectangle is  60.0\n",
      "Perimeter of rectangle is  120.0\n"
     ]
    }
   ],
   "source": [
    "#create class called Rectangle with atrributes such as width and height.Define method to calculate area perimeter of it.\n",
    "class Rectangle:\n",
    "    def __init__(self,l,w):\n",
    "        self.length=l\n",
    "        self.width=w\n",
    "        \n",
    "    def rect_area(self):\n",
    "        return self.length*self.width\n",
    "    \n",
    "    def rect_perimeter(self):\n",
    "        return 2*(self.length*self.width)\n",
    "    \n",
    "l=float(input('Length of rectangle is '))\n",
    "w=float(input('Width of rectangle is '))\n",
    "\n",
    "a=Rectangle(l,w)\n",
    "print('Area of rectangle is ',a.rect_area())\n",
    "print('Perimeter of rectangle is ',a.rect_perimeter())\n"
   ]
  },
  {
   "cell_type": "code",
   "execution_count": 15,
   "id": "99c126e2",
   "metadata": {},
   "outputs": [
    {
     "name": "stdout",
     "output_type": "stream",
     "text": [
      "Radius of circle is 21.5\n",
      "Area of circle is  1451.47\n",
      "Circumference of cirle is  135.02\n"
     ]
    }
   ],
   "source": [
    "#create class circle with attributes such as radius.define method calulate area and circumference of circle.\n",
    "class Circle:\n",
    "    def __init__(self,radius):\n",
    "        self.radius=radius\n",
    "        \n",
    "    def cir_area(self):\n",
    "        return 3.14*(self.radius*self.radius)\n",
    "\n",
    "    \n",
    "    def cir_circumference(self):\n",
    "        return (2*3.14*self.radius)\n",
    "\n",
    "    \n",
    "radius=float(input('Radius of circle is '))\n",
    "\n",
    "a=Circle(radius)\n",
    "print('Area of circle is ',round(a.cir_area(),2))\n",
    "print('Circumference of cirle is ',a.cir_circumference())\n"
   ]
  },
  {
   "cell_type": "code",
   "execution_count": 4,
   "id": "971d0626",
   "metadata": {},
   "outputs": [
    {
     "name": "stdout",
     "output_type": "stream",
     "text": [
      "Amount to bo deposited in account is 90000\n",
      "Amount deposited is  90000.0\n",
      "Amount to bo withdrawn from account is 20000\n",
      "Amount withdrawn is  20000.0\n",
      "Net balance is  70000.0\n",
      "interest rate is 10\n",
      "Interest on balance is  7000.0\n"
     ]
    }
   ],
   "source": [
    "#create class Bank Account with attributes as balance,interest rate.define method to deposite,withdraw.\n",
    "#calculate interest on balance\n",
    "class Bank_Account:\n",
    "    def __init__(self):\n",
    "        self.balance=0\n",
    "  \n",
    "    def cal_deposite(self):\n",
    "        d=float(input('Amount to bo deposited in account is '))\n",
    "        self.balance+=d\n",
    "        print('Amount deposited is ',d)\n",
    "        \n",
    "    def cal_withdraw(self):\n",
    "        w=float(input('Amount to bo withdrawn from account is '))\n",
    "        if self.balance>=w:\n",
    "            self.balance-=w\n",
    "            print('Amount withdrawn is ',w)\n",
    "            \n",
    "        else:\n",
    "            print('Insufficient balance ',w)\n",
    "    def dis_bal(self):\n",
    "            print('Net balance is ',self.balance)\n",
    "\n",
    "            \n",
    "    def cal_interestrate(self):\n",
    "        ir=float(input('interest rate is '))\n",
    "        print('Interest on balance is ',self.balance*(ir/100))\n",
    "\n",
    "\n",
    "a=Bank_Account()\n",
    "a.cal_deposite()\n",
    "a.cal_withdraw()\n",
    "a.dis_bal()\n",
    "a.cal_interestrate()"
   ]
  }
 ],
 "metadata": {
  "kernelspec": {
   "display_name": "Python 3 (ipykernel)",
   "language": "python",
   "name": "python3"
  },
  "language_info": {
   "codemirror_mode": {
    "name": "ipython",
    "version": 3
   },
   "file_extension": ".py",
   "mimetype": "text/x-python",
   "name": "python",
   "nbconvert_exporter": "python",
   "pygments_lexer": "ipython3",
   "version": "3.9.13"
  }
 },
 "nbformat": 4,
 "nbformat_minor": 5
}
