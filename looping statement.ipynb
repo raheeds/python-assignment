{
 "cells": [
  {
   "cell_type": "code",
   "execution_count": 1,
   "id": "2599552e",
   "metadata": {},
   "outputs": [
    {
     "name": "stdout",
     "output_type": "stream",
     "text": [
      "Hello Python\n",
      "Hello Python\n",
      "Hello Python\n",
      "Hello Python\n",
      "Hello Python\n",
      "Hello Python\n",
      "Hello Python\n",
      "Hello Python\n",
      "Hello Python\n",
      "Hello Python\n"
     ]
    }
   ],
   "source": [
    "#Q.write the program to print 'hello python' 10times.\n",
    "i=1\n",
    "while i<=10:\n",
    "    print(\"Hello Python\")\n",
    "    i+=1"
   ]
  },
  {
   "cell_type": "code",
   "execution_count": 4,
   "id": "3437f547",
   "metadata": {},
   "outputs": [
    {
     "name": "stdout",
     "output_type": "stream",
     "text": [
      "0\n",
      "1\n",
      "2\n",
      "3\n",
      "4\n",
      "5\n",
      "6\n",
      "7\n",
      "8\n",
      "9\n",
      "10\n"
     ]
    }
   ],
   "source": [
    "#Q.write the program to print number 0-10.\n",
    "i=0\n",
    "while i<=10:\n",
    "    print(i)\n",
    "    i+=1"
   ]
  },
  {
   "cell_type": "code",
   "execution_count": 2,
   "id": "602c9a50",
   "metadata": {},
   "outputs": [
    {
     "name": "stdout",
     "output_type": "stream",
     "text": [
      "sum of 1st 10 numbers is  55\n"
     ]
    }
   ],
   "source": [
    "#Q.write the program to print sum of first 10 numbers.\n",
    "i=1\n",
    "sum=0\n",
    "while i<=10:\n",
    "    sum=sum+i\n",
    "    i=i+1\n",
    "print('sum of 1st 10 numbers is ',sum)\n",
    "    "
   ]
  },
  {
   "cell_type": "code",
   "execution_count": 2,
   "id": "aaf70784",
   "metadata": {},
   "outputs": [
    {
     "name": "stdout",
     "output_type": "stream",
     "text": [
      "enter the number 10\n",
      "1\n",
      "2\n",
      "3\n",
      "4\n",
      "5\n",
      "6\n",
      "7\n",
      "8\n",
      "9\n",
      "10\n"
     ]
    }
   ],
   "source": [
    "#Q.write the program to print n numbers entered by users.\n",
    "n=int(input('enter the number '))\n",
    "i=1\n",
    "while i<=n:\n",
    "    print(i)\n",
    "    i=i+1\n",
    "    "
   ]
  },
  {
   "cell_type": "code",
   "execution_count": 4,
   "id": "3c3de215",
   "metadata": {},
   "outputs": [
    {
     "name": "stdout",
     "output_type": "stream",
     "text": [
      "enter the number 15\n",
      "sum of n numbers is  120\n"
     ]
    }
   ],
   "source": [
    "#Q.write the program to print sum of n numbers.\n",
    "n=int(input('enter the number '))\n",
    "i=1\n",
    "sum=0\n",
    "while i<=n:\n",
    "    sum=sum+i\n",
    "    i=i+1\n",
    "print('sum of n numbers is ',sum)\n"
   ]
  },
  {
   "cell_type": "code",
   "execution_count": 12,
   "id": "58539eb7",
   "metadata": {},
   "outputs": [
    {
     "name": "stdout",
     "output_type": "stream",
     "text": [
      "enter the number 3\n",
      "table is 3\n",
      "table is 6\n",
      "table is 9\n",
      "table is 12\n",
      "table is 15\n",
      "table is 18\n",
      "table is 21\n",
      "table is 24\n",
      "table is 27\n",
      "table is 30\n"
     ]
    }
   ],
   "source": [
    "#Q.write the program to print table of numbers.\n",
    "n=int(input('enter the number '))\n",
    "i=1\n",
    "f=1\n",
    "while i<=10:\n",
    "    f=i*n\n",
    "    print('table is',f)\n",
    "    i=i+1"
   ]
  },
  {
   "cell_type": "code",
   "execution_count": 16,
   "id": "d3ceeaf3",
   "metadata": {},
   "outputs": [
    {
     "name": "stdout",
     "output_type": "stream",
     "text": [
      "enter the number 5\n",
      "factorial of number is  120\n"
     ]
    }
   ],
   "source": [
    "#Q.write the program to calculate factorial of the numbers.\n",
    "n=int(input('enter the number '))\n",
    "i=1\n",
    "f=1\n",
    "while i<=n:\n",
    "    f=f*i\n",
    "    i=i+1\n",
    "print('factorial of number is ',f)"
   ]
  },
  {
   "cell_type": "code",
   "execution_count": 23,
   "id": "475d47b7",
   "metadata": {},
   "outputs": [
    {
     "name": "stdout",
     "output_type": "stream",
     "text": [
      "even numbers between 1-100 are \n",
      "2\n",
      "4\n",
      "6\n",
      "8\n",
      "10\n",
      "12\n",
      "14\n",
      "16\n",
      "18\n",
      "20\n",
      "22\n",
      "24\n",
      "26\n",
      "28\n",
      "30\n",
      "32\n",
      "34\n",
      "36\n",
      "38\n",
      "40\n",
      "42\n",
      "44\n",
      "46\n",
      "48\n",
      "50\n",
      "52\n",
      "54\n",
      "56\n",
      "58\n",
      "60\n",
      "62\n",
      "64\n",
      "66\n",
      "68\n",
      "70\n",
      "72\n",
      "74\n",
      "76\n",
      "78\n",
      "80\n",
      "82\n",
      "84\n",
      "86\n",
      "88\n",
      "90\n",
      "92\n",
      "94\n",
      "96\n",
      "98\n",
      "100\n"
     ]
    }
   ],
   "source": [
    "#Q.write the program to calculate even number between 1-100.\n",
    "i=1\n",
    "print('even numbers between 1-100 are ')\n",
    "while i<=100:\n",
    "    if i%2==0:\n",
    "        print(i)\n",
    "    i=i+1"
   ]
  },
  {
   "cell_type": "code",
   "execution_count": 24,
   "id": "f561317e",
   "metadata": {},
   "outputs": [
    {
     "name": "stdout",
     "output_type": "stream",
     "text": [
      "odd numbers between 1-100 are \n",
      "1\n",
      "3\n",
      "5\n",
      "7\n",
      "9\n",
      "11\n",
      "13\n",
      "15\n",
      "17\n",
      "19\n",
      "21\n",
      "23\n",
      "25\n",
      "27\n",
      "29\n",
      "31\n",
      "33\n",
      "35\n",
      "37\n",
      "39\n",
      "41\n",
      "43\n",
      "45\n",
      "47\n",
      "49\n",
      "51\n",
      "53\n",
      "55\n",
      "57\n",
      "59\n",
      "61\n",
      "63\n",
      "65\n",
      "67\n",
      "69\n",
      "71\n",
      "73\n",
      "75\n",
      "77\n",
      "79\n",
      "81\n",
      "83\n",
      "85\n",
      "87\n",
      "89\n",
      "91\n",
      "93\n",
      "95\n",
      "97\n",
      "99\n"
     ]
    }
   ],
   "source": [
    "#Q.write the program to calculate odd number between 1-100.\n",
    "i=1\n",
    "print('odd numbers between 1-100 are ')\n",
    "while i<=100:\n",
    "    if i%2!=0:\n",
    "        print(i)\n",
    "    i=i+1"
   ]
  },
  {
   "cell_type": "code",
   "execution_count": 28,
   "id": "20b0c81b",
   "metadata": {},
   "outputs": [
    {
     "name": "stdout",
     "output_type": "stream",
     "text": [
      "enter the number 75\n",
      "factors of the number are \n",
      "1\n",
      "3\n",
      "5\n",
      "15\n",
      "25\n",
      "75\n"
     ]
    }
   ],
   "source": [
    "#Q.write the program to find factor of numbers.\n",
    "n=int(input('enter the number '))\n",
    "i=1\n",
    "print('factors of the number are ')\n",
    "while i<=n:\n",
    "    if n%i==0:\n",
    "        print(i)\n",
    "    i=i+1    "
   ]
  },
  {
   "cell_type": "code",
   "execution_count": 16,
   "id": "f5bfc087",
   "metadata": {},
   "outputs": [
    {
     "name": "stdout",
     "output_type": "stream",
     "text": [
      "reversed no is  876\n"
     ]
    }
   ],
   "source": [
    "#Q.write the program to reverse numbers.\n",
    "n=678\n",
    "rev_no=0\n",
    "while n!=0:\n",
    "    digit=n%10\n",
    "    rev_no=rev_no*10+digit\n",
    "    n=n//10\n",
    "print('reversed no is ',rev_no)"
   ]
  },
  {
   "cell_type": "code",
   "execution_count": 11,
   "id": "d5d3e420",
   "metadata": {},
   "outputs": [
    {
     "name": "stdout",
     "output_type": "stream",
     "text": [
      "enter the number345\n",
      "reversed no is  543\n",
      "sum of reversed no is  12\n"
     ]
    }
   ],
   "source": [
    "#Q.write the program to sum of reverse numbers.\n",
    "n=int(input('enter the number'))\n",
    "rev_no=0\n",
    "summ=0\n",
    "while n!=0:\n",
    "    digit=n%10\n",
    "    summ=summ+digit\n",
    "    rev_no=rev_no*10+digit\n",
    "    n=n//10\n",
    "print('reversed no is ',rev_no)\n",
    "print('sum of reversed no is ',summ)"
   ]
  },
  {
   "cell_type": "code",
   "execution_count": 7,
   "id": "016e7874",
   "metadata": {},
   "outputs": [
    {
     "name": "stdout",
     "output_type": "stream",
     "text": [
      "enter the number 10\n",
      "10 is not prime number\n"
     ]
    }
   ],
   "source": [
    "#Q.write the program to find prime number.\n",
    "a=int(input('enter the number '))\n",
    "if a==1:\n",
    "    print('Number is not prime number')\n",
    "elif a>1:\n",
    "    for i in range(2,a):\n",
    "        if(a%i)==0:\n",
    "            print(a,'is not prime number')\n",
    "            break\n",
    "        else:\n",
    "            print(a,'is prime number')\n",
    "else:\n",
    "    print('Number is not prime number')"
   ]
  },
  {
   "cell_type": "code",
   "execution_count": 14,
   "id": "b7227824",
   "metadata": {},
   "outputs": [
    {
     "name": "stdout",
     "output_type": "stream",
     "text": [
      "2, 3, 5, 7, 11, 13, 17, 19, 23, 29, 31, 37, 41, 43, 47, 53, 59, 61, 67, 71, 73, 79, 83, 89, 97, "
     ]
    }
   ],
   "source": [
    "#Q.write the program to find prime number 1 to 100.\n",
    "for n in range(1,101):\n",
    "    status=True\n",
    "    if n<2:\n",
    "        status=False\n",
    "    else:\n",
    "        for i in range(2,n):\n",
    "            if n%i==0:\n",
    "                status=False\n",
    "        if status:\n",
    "            print(n,' ',sep=',',end='')"
   ]
  },
  {
   "cell_type": "code",
   "execution_count": 15,
   "id": "310661ed",
   "metadata": {},
   "outputs": [
    {
     "name": "stdout",
     "output_type": "stream",
     "text": [
      "enter the number789\n",
      "reversed no is  987\n"
     ]
    }
   ],
   "source": [
    "#Q.write the program to reverse order numbers.\n",
    "n=int(input('enter the number'))\n",
    "rev_no=0\n",
    "while n!=0:\n",
    "    digit=n%10\n",
    "    rev_no=rev_no*10+digit\n",
    "    n=n//10\n",
    "print('reversed no is ',rev_no)"
   ]
  },
  {
   "cell_type": "code",
   "execution_count": 20,
   "id": "0e2d5aa9",
   "metadata": {},
   "outputs": [
    {
     "name": "stdout",
     "output_type": "stream",
     "text": [
      "enter the number 4\n",
      "cube of all number 1 is 1\n",
      "cube of all number 2 is 8\n",
      "cube of all number 3 is 27\n",
      "cube of all number 4 is 64\n"
     ]
    }
   ],
   "source": [
    "#Q.write the program for cube of all no from 1 to n.\n",
    "n=int(input('enter the number '))\n",
    "if n>1:\n",
    "    f=1\n",
    "    for i in range(1,n+1):\n",
    "        f=i*i*i\n",
    "        print('cube of all number',i,'is',f)"
   ]
  },
  {
   "cell_type": "code",
   "execution_count": null,
   "id": "b5529ca6",
   "metadata": {},
   "outputs": [],
   "source": [
    "#Q. number patterns"
   ]
  },
  {
   "cell_type": "code",
   "execution_count": 21,
   "id": "959e8956",
   "metadata": {},
   "outputs": [
    {
     "name": "stdout",
     "output_type": "stream",
     "text": [
      "enter the number 5\n",
      "1\n",
      "12\n",
      "123\n",
      "1234\n",
      "12345\n"
     ]
    }
   ],
   "source": [
    "n=int(input('enter the number '))\n",
    "for i in range(1,n+1):\n",
    "    for j in range(1,i+1):\n",
    "        print(j,end='')\n",
    "    print()"
   ]
  },
  {
   "cell_type": "code",
   "execution_count": 1,
   "id": "ef09110a",
   "metadata": {},
   "outputs": [
    {
     "name": "stdout",
     "output_type": "stream",
     "text": [
      "enter the number 5\n",
      "1\n",
      "22\n",
      "333\n",
      "4444\n",
      "55555\n"
     ]
    }
   ],
   "source": [
    "n=int(input('enter the number '))\n",
    "for i in range(1,n+1):\n",
    "    for j in range(1,i+1):\n",
    "        print(i,end='')\n",
    "    print()"
   ]
  },
  {
   "cell_type": "code",
   "execution_count": 6,
   "id": "798c471a",
   "metadata": {},
   "outputs": [
    {
     "name": "stdout",
     "output_type": "stream",
     "text": [
      "enter the number 5\n",
      "54321\n",
      "5432\n",
      "543\n",
      "54\n",
      "5\n"
     ]
    }
   ],
   "source": [
    "n=int(input('enter the number '))\n",
    "for i in range(1,6):\n",
    "    for j in range(5,i-1,-1):\n",
    "        print(j,end='')\n",
    "    print()"
   ]
  },
  {
   "cell_type": "code",
   "execution_count": 16,
   "id": "35683ec6",
   "metadata": {},
   "outputs": [
    {
     "name": "stdout",
     "output_type": "stream",
     "text": [
      "enter the number 5\n",
      "12345\n",
      "1234\n",
      "123\n",
      "12\n",
      "1\n"
     ]
    }
   ],
   "source": [
    "n=int(input('enter the number '))\n",
    "for i in range(6,1,-1):\n",
    "    for j in range(1,i):\n",
    "        print(j,end='')\n",
    "    print()"
   ]
  },
  {
   "cell_type": "code",
   "execution_count": 11,
   "id": "f279fc71",
   "metadata": {},
   "outputs": [
    {
     "name": "stdout",
     "output_type": "stream",
     "text": [
      "enter the number 5\n",
      "54321\n",
      "4321\n",
      "321\n",
      "21\n",
      "1\n"
     ]
    }
   ],
   "source": [
    "n=int(input('enter the number '))\n",
    "for i in range(n,0,-1):\n",
    "    for j in range(i,0,-1):\n",
    "        print(j,end='')\n",
    "    print()"
   ]
  },
  {
   "cell_type": "code",
   "execution_count": null,
   "id": "6a1c0bd3",
   "metadata": {},
   "outputs": [],
   "source": [
    "#Q.star patterns"
   ]
  },
  {
   "cell_type": "code",
   "execution_count": 20,
   "id": "acff135a",
   "metadata": {},
   "outputs": [
    {
     "name": "stdout",
     "output_type": "stream",
     "text": [
      "enter the number 5\n",
      "\n",
      "*\n",
      "**\n",
      "***\n",
      "****\n",
      "*****\n"
     ]
    }
   ],
   "source": [
    "n=int(input('enter the number '))\n",
    "for i in range(n+1):\n",
    "    for j in range(i):\n",
    "        print('*',end='')\n",
    "    print()"
   ]
  },
  {
   "cell_type": "code",
   "execution_count": 21,
   "id": "a9f69d75",
   "metadata": {},
   "outputs": [
    {
     "name": "stdout",
     "output_type": "stream",
     "text": [
      "enter the number 5\n",
      "*****\n",
      "*****\n",
      "*****\n",
      "*****\n",
      "*****\n"
     ]
    }
   ],
   "source": [
    "n=int(input('enter the number '))\n",
    "for i in range(n):\n",
    "    for j in range(n):\n",
    "        print('*',end='')\n",
    "    print()"
   ]
  },
  {
   "cell_type": "code",
   "execution_count": 25,
   "id": "1f8bd9d8",
   "metadata": {},
   "outputs": [
    {
     "name": "stdout",
     "output_type": "stream",
     "text": [
      "enter the number 5\n",
      "*****\n",
      "****\n",
      "***\n",
      "**\n",
      "*\n"
     ]
    }
   ],
   "source": [
    "n=int(input('enter the number '))\n",
    "for i in range(1,n+1):\n",
    "    for j in range(5,i-1,-1):\n",
    "        print('*',end='')\n",
    "    print()"
   ]
  },
  {
   "cell_type": "code",
   "execution_count": 41,
   "id": "efe7263a",
   "metadata": {},
   "outputs": [
    {
     "name": "stdout",
     "output_type": "stream",
     "text": [
      "enter the number 5\n",
      "*****\n",
      " ****\n",
      "  ***\n",
      "   **\n",
      "    *\n"
     ]
    }
   ],
   "source": [
    "n=int(input('enter the number '))\n",
    "for i in range(n):\n",
    "    for j in range(i):\n",
    "        print(' ',end='')\n",
    "    for j in range(n,i,-1):\n",
    "        print('*',end='')\n",
    "    print()"
   ]
  },
  {
   "cell_type": "code",
   "execution_count": 39,
   "id": "78cb82b3",
   "metadata": {},
   "outputs": [
    {
     "name": "stdout",
     "output_type": "stream",
     "text": [
      "enter the number 5\n",
      "    *\n",
      "   **\n",
      "  ***\n",
      " ****\n",
      "*****\n"
     ]
    }
   ],
   "source": [
    "n=int(input('enter the number '))\n",
    "for i in range(n):\n",
    "    for j in range(1,n-i):\n",
    "        print(' ',end='')\n",
    "    for k in range(0,i+1):\n",
    "        print('*',end='')\n",
    "    print()"
   ]
  },
  {
   "cell_type": "code",
   "execution_count": null,
   "id": "d5c56cfe",
   "metadata": {},
   "outputs": [],
   "source": [
    "#Q.Alphabet patterns"
   ]
  },
  {
   "cell_type": "code",
   "execution_count": 43,
   "id": "495c9534",
   "metadata": {},
   "outputs": [
    {
     "name": "stdout",
     "output_type": "stream",
     "text": [
      "enter the number 5\n",
      "A\n",
      "AB\n",
      "ABC\n",
      "ABCD\n",
      "ABCDE\n"
     ]
    }
   ],
   "source": [
    "n=int(input('enter the number '))\n",
    "for i in range(n):\n",
    "    for j in range(i+1):\n",
    "        print(chr(j+65),end='')\n",
    "    print()"
   ]
  },
  {
   "cell_type": "code",
   "execution_count": 44,
   "id": "107a43e3",
   "metadata": {},
   "outputs": [
    {
     "name": "stdout",
     "output_type": "stream",
     "text": [
      "enter the number 5\n",
      "A\n",
      "BB\n",
      "CCC\n",
      "DDDD\n",
      "EEEEE\n"
     ]
    }
   ],
   "source": [
    "n=int(input('enter the number '))\n",
    "for i in range(n):\n",
    "    for j in range(i+1):\n",
    "        print(chr(i+65),end='')\n",
    "    print()"
   ]
  },
  {
   "cell_type": "code",
   "execution_count": 21,
   "id": "d1379396",
   "metadata": {},
   "outputs": [
    {
     "name": "stdout",
     "output_type": "stream",
     "text": [
      "enter the number 5\n",
      "ABCDE\n",
      "ABCD\n",
      "ABC\n",
      "AB\n",
      "A\n"
     ]
    }
   ],
   "source": [
    "n=int(input('enter the number '))\n",
    "for i in range(n,0,-1):\n",
    "    for j in range(0,i):\n",
    "        print(chr(j+65),end='')\n",
    "    print()"
   ]
  },
  {
   "cell_type": "code",
   "execution_count": 34,
   "id": "240e5106",
   "metadata": {},
   "outputs": [
    {
     "name": "stdout",
     "output_type": "stream",
     "text": [
      "enter the number 5\n",
      "EEEEE\n",
      "DDDD\n",
      "CCC\n",
      "BB\n",
      "A\n"
     ]
    }
   ],
   "source": [
    "n=int(input('enter the number '))\n",
    "for i in range(n,0,-1):\n",
    "    for j in range(i):\n",
    "        print(chr(i+64),end='')\n",
    "    print()"
   ]
  }
 ],
 "metadata": {
  "kernelspec": {
   "display_name": "Python 3 (ipykernel)",
   "language": "python",
   "name": "python3"
  },
  "language_info": {
   "codemirror_mode": {
    "name": "ipython",
    "version": 3
   },
   "file_extension": ".py",
   "mimetype": "text/x-python",
   "name": "python",
   "nbconvert_exporter": "python",
   "pygments_lexer": "ipython3",
   "version": "3.9.13"
  }
 },
 "nbformat": 4,
 "nbformat_minor": 5
}
